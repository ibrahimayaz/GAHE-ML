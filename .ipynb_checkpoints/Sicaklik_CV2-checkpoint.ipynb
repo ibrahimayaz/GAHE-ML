{
 "cells": [
  {
   "cell_type": "markdown",
   "metadata": {
    "id": "BgZcNirxl8Ea"
   },
   "source": [
    "# 1.Import Libraries"
   ]
  },
  {
   "cell_type": "code",
   "execution_count": null,
   "metadata": {
    "executionInfo": {
     "elapsed": 18,
     "status": "ok",
     "timestamp": 1748197337147,
     "user": {
      "displayName": "İbrahim AYAZ",
      "userId": "08537203857608214131"
     },
     "user_tz": -180
    },
    "id": "dk-4JAzyRERA"
   },
   "outputs": [],
   "source": [
    "import pandas as pd\n",
    "import numpy as np\n",
    "import matplotlib.pyplot as plt\n",
    "import matplotlib.gridspec as gridspec\n",
    "import seaborn as sns\n",
    "import shap\n",
    "import warnings\n",
    "import math\n",
    "\n",
    "from sklearn.model_selection import GridSearchCV, KFold, cross_val_score\n",
    "from sklearn.pipeline import Pipeline\n",
    "from sklearn.preprocessing import StandardScaler\n",
    "from sklearn.metrics import mean_squared_error, mean_absolute_error, r2_score\n",
    "\n",
    "from sklearn.neighbors import KNeighborsRegressor\n",
    "from sklearn.svm import SVR\n",
    "from sklearn.tree import DecisionTreeRegressor\n",
    "from sklearn.ensemble import RandomForestRegressor\n",
    "from xgboost import XGBRegressor\n",
    "\n",
    "warnings.filterwarnings(\"ignore\")"
   ]
  },
  {
   "cell_type": "code",
   "execution_count": null,
   "metadata": {
    "executionInfo": {
     "elapsed": 2,
     "status": "ok",
     "timestamp": 1748197339945,
     "user": {
      "displayName": "İbrahim AYAZ",
      "userId": "08537203857608214131"
     },
     "user_tz": -180
    },
    "id": "WxR66EIgRUG8"
   },
   "outputs": [],
   "source": [
    "path=\"/GAHE-ML/\"\n",
    "graphic_path=path+\"/plot_revision2/\""
   ]
  },
  {
   "cell_type": "markdown",
   "metadata": {
    "id": "l3d9fhtNmK1h"
   },
   "source": [
    "# 2.Load The Dataset"
   ]
  },
  {
   "cell_type": "code",
   "execution_count": null,
   "metadata": {
    "executionInfo": {
     "elapsed": 1052,
     "status": "ok",
     "timestamp": 1748168292024,
     "user": {
      "displayName": "İbrahim AYAZ",
      "userId": "08537203857608214131"
     },
     "user_tz": -180
    },
    "id": "G4L1FqtBRVcE"
   },
   "outputs": [],
   "source": [
    "dataset = pd.read_csv(f\"{path}data_sicaklik3.csv\", header=0, sep=\";\")"
   ]
  },
  {
   "cell_type": "markdown",
   "metadata": {
    "id": "J8uqoUZkJNaE"
   },
   "source": [
    "# 3.Separating independent(X) and dependent(y) variables"
   ]
  },
  {
   "cell_type": "code",
   "execution_count": null,
   "metadata": {
    "id": "ts1kTQzSRhdk"
   },
   "outputs": [],
   "source": [
    "X = dataset.iloc[:, 0:6]\n",
    "y = dataset.iloc[:, 6]"
   ]
  },
  {
   "cell_type": "markdown",
   "metadata": {
    "id": "AUV7ufiBmpaZ"
   },
   "source": [
    "# 4.Data Distribution Graphic"
   ]
  },
  {
   "cell_type": "code",
   "execution_count": null,
   "metadata": {
    "colab": {
     "base_uri": "https://localhost:8080/",
     "height": 525
    },
    "executionInfo": {
     "elapsed": 1876,
     "status": "ok",
     "timestamp": 1748115239549,
     "user": {
      "displayName": "İbrahim AYAZ",
      "userId": "08537203857608214131"
     },
     "user_tz": -180
    },
    "id": "Njqld5eFSXzc",
    "outputId": "d366e01c-7d03-412b-f6e3-cde6c407a897"
   },
   "outputs": [],
   "source": [
    "# Eğitim verisini normalize edip boxplot çiziyoruz\n",
    "scaler = StandardScaler()\n",
    "X_normalized = scaler.fit_transform(X)\n",
    "plt.figure(figsize=(10, 6))\n",
    "sns.boxplot(data=X_normalized)\n",
    "plt.xticks(ticks=range(6), labels=[\"Air Inlet Temp.\", \"Ground Temp.\", \"Reynolds Number\", \"Pipe Diameter\", \"Ground Depth\", \"Pipe Length\"])\n",
    "# plt.title('Feature Distribution of Dataset')\n",
    "plt.grid(axis='y', linestyle='--', alpha=0.5)\n",
    "plt.ylabel(\"Normalization value range of features\")\n",
    "plt.savefig(f\"{graphic_path}dataset_distribution.png\", dpi=600)\n",
    "plt.show()"
   ]
  },
  {
   "cell_type": "markdown",
   "metadata": {
    "id": "hjgJU5j6MVH9"
   },
   "source": [
    "# 5.Models and hyperparameter grids to be used"
   ]
  },
  {
   "cell_type": "code",
   "execution_count": null,
   "metadata": {
    "id": "rUD_8iWDJy8E"
   },
   "outputs": [],
   "source": [
    "# Kullanılacak modeller ve hiperparametreler\n",
    "tuned_models = {\n",
    "    'KNN': (KNeighborsRegressor(), {'model__n_neighbors': [3, 5, 7]}),\n",
    "    'SVR': (SVR(), {'model__C': [0.1, 1, 10], 'model__epsilon': [0.01, 0.1, 0.2], 'model__kernel': ['linear', 'rbf']}),\n",
    "    'DT': (DecisionTreeRegressor(), {'model__max_depth': [5, 10, 15, 20, 25, None]}),\n",
    "    'RF': (RandomForestRegressor(), {'model__n_estimators': [100, 150, 200], 'model__max_depth': [5, 10, 15, 20, 25, None]}),\n",
    "    'XGB': (XGBRegressor(objective='reg:squarederror'), {'model__n_estimators': [100, 150, 200], 'model__max_depth': [10, 20, 30], 'model__learning_rate': [0.05, 0.1]})\n",
    "}"
   ]
  },
  {
   "cell_type": "markdown",
   "metadata": {
    "id": "tWzjtSQOorDQ"
   },
   "source": [
    "# 6.SHAP Analysis Function"
   ]
  },
  {
   "cell_type": "code",
   "execution_count": null,
   "metadata": {
    "id": "N6ep44Daf256"
   },
   "outputs": [],
   "source": [
    "def shap_analysis(best_model, X_train_fold, X_val_fold, feature_names, isDownload=False):\n",
    "    figsize=(10, 6)\n",
    "    # Verileri ölçekle\n",
    "    X_train_scaled = best_model.named_steps[\"scaler\"].transform(X_train_fold)\n",
    "    X_val_scaled = best_model.named_steps[\"scaler\"].transform(X_val_fold)\n",
    "\n",
    "    model = best_model.named_steps[\"model\"]\n",
    "\n",
    "    # SHAP açıklayıcı nesnesi\n",
    "    explainer = shap.KernelExplainer(model.predict, X_train_scaled)\n",
    "    shap_values = explainer.shap_values(X_val_scaled)\n",
    "\n",
    "    # === SHAP Summary Plot ===\n",
    "    plt.figure(figsize=figsize)\n",
    "    shap.summary_plot(shap_values, X_val_scaled, feature_names=feature_names, show=False)\n",
    "    # colorbar objesini al\n",
    "    cbar = plt.gcf().axes[-1]  # en sağdaki colorbar objesi\n",
    "\n",
    "    # colorbar'ın genişliğini ayarla (örneğin %2'den %4'e çıkar)\n",
    "    box = cbar.get_position()\n",
    "    cbar.set_position([box.x0 + 0.05, box.y0, 0.05, box.height])  # [x, y, genişlik, yükseklik]\n",
    "    plt.tight_layout()\n",
    "    if isDownload:\n",
    "      plt.savefig(f\"{graphic_path}shap_summary.png\", dpi=600)\n",
    "    plt.show()\n",
    "\n",
    "    # === Barplot ===\n",
    "    shap_abs_values = np.abs(shap_values)\n",
    "    shap_importance = np.sum(shap_abs_values, axis=0)\n",
    "    sorted_indices = np.argsort(shap_importance)[::-1]\n",
    "    sorted_features = np.array(feature_names)[sorted_indices]\n",
    "    sorted_shap_importance = shap_importance[sorted_indices]\n",
    "\n",
    "    plt.figure(figsize=(10, 6))\n",
    "    sns.barplot(x=sorted_shap_importance, y=sorted_features, palette=\"coolwarm\")\n",
    "    plt.xlabel(\"SHAP Values\")\n",
    "    plt.tight_layout()\n",
    "    if isDownload:\n",
    "      plt.savefig(f\"{graphic_path}shap_feature_importance.png\", dpi=600)\n",
    "    plt.show()\n",
    "\n",
    "    # === Heatmap ===\n",
    "    plt.figure(figsize=figsize)\n",
    "    sns.heatmap(shap_values[:, sorted_indices].T, cmap=\"coolwarm\", xticklabels=5, yticklabels=sorted_features)\n",
    "    plt.xlabel(\"Samples\")\n",
    "    if isDownload:\n",
    "      plt.savefig(f\"{graphic_path}shap_heatmap.png\", dpi=600)\n",
    "    plt.tight_layout()\n",
    "    plt.show()\n",
    "\n",
    "    # === Decision Plot (İlk 50 Örnek) ===\n",
    "    plt.figure(figsize=figsize)\n",
    "    shap.decision_plot(\n",
    "        explainer.expected_value,\n",
    "        shap_values,\n",
    "        feature_names=feature_names,\n",
    "        show=False\n",
    "    )\n",
    "    if isDownload:\n",
    "      plt.savefig(f\"{graphic_path}shap_decision.png\", dpi=600, bbox_inches='tight')\n",
    "    plt.tight_layout()\n",
    "    plt.show()"
   ]
  },
  {
   "cell_type": "markdown",
   "metadata": {
    "id": "SQUng6M_m6o3"
   },
   "source": [
    "# 7.Model training and parameter optimization with cross-validation"
   ]
  },
  {
   "cell_type": "code",
   "execution_count": null,
   "metadata": {
    "colab": {
     "base_uri": "https://localhost:8080/",
     "height": 1000,
     "referenced_widgets": [
      "5846a99602044de98c61a477807024a6",
      "2d2b2c375c164e54bc04c98abd52df16",
      "25ea646a030546e497c129d803d291fc",
      "daae02dafa574fecbe756c2de182ae31",
      "700e60db4a1b4d688efe9da269c95021",
      "a988bbee6dcd4fbfb65721793f7bd251",
      "e41518399186405a9ec90091503f0dc7",
      "7fb876aa11794517a9d85436e2b2ae48",
      "39adc3de13b342868c005ed6ef2e8acd",
      "b4aea11c022d401cab951e6af0ade077",
      "385dd8ce7e764733b6aa30981eb4f9e6"
     ]
    },
    "executionInfo": {
     "elapsed": 83647,
     "status": "ok",
     "timestamp": 1748115996159,
     "user": {
      "displayName": "İbrahim AYAZ",
      "userId": "08537203857608214131"
     },
     "user_tz": -180
    },
    "id": "bZZ8k_RpOXjl",
    "outputId": "dd87cd45-a40f-4d21-fea4-d0944ad164e5"
   },
   "outputs": [],
   "source": [
    "SEED = 13\n",
    "cv_results = []\n",
    "model_best_params = []\n",
    "merged_df = pd.DataFrame()\n",
    "merged_df[\"ActualValues\"] = y\n",
    "k_folds = 5\n",
    "# 5 katlı çapraz doğrulama nesnesi\n",
    "kfold = KFold(n_splits=k_folds, shuffle=True, random_state=SEED)\n",
    "feature_names = [\"Air Inlet Temperature\", \"Ground Temperature\", \"Reynolds Number\", \"Pipe Diameter\", \"Ground Depth\", \"Pipe Length\"]\n",
    "\n",
    "for name, (model, params) in tuned_models.items():\n",
    "    print(f\"{name} için GridSearchCV başlatılıyor...\")\n",
    "    pipeline = Pipeline([('scaler', StandardScaler()), ('model', model)])\n",
    "    grid = GridSearchCV(pipeline, param_grid=params, cv=kfold, scoring='neg_mean_squared_error')\n",
    "    grid.fit(X, y)\n",
    "    best_model = grid.best_estimator_\n",
    "    fold_scores = []\n",
    "    fold_preds = []\n",
    "    model_best_params.append({\n",
    "        'Model': name,\n",
    "        'Best Params': grid.best_params_,\n",
    "        'best_model': best_model,\n",
    "        'model_type': type(best_model.named_steps['model']).__name__\n",
    "    })\n",
    "    # 5-Fold çapraz doğrulama\n",
    "    for fold_idx, (train_idx, val_idx) in enumerate(kfold.split(X), 1):\n",
    "        X_train, X_val = X.iloc[train_idx], X.iloc[val_idx]\n",
    "        y_train, y_val = y.iloc[train_idx], y.iloc[val_idx]\n",
    "\n",
    "        best_model.fit(X_train, y_train)\n",
    "\n",
    "        # Doğrulama seti tahmini\n",
    "        y_val_pred = best_model.predict(X_val)\n",
    "        # Eğitim seti tahmini\n",
    "        y_train_pred = best_model.predict(X_train)\n",
    "\n",
    "        cv_results.append({\n",
    "        'Model': name,\n",
    "        'Fold': fold_idx,\n",
    "\n",
    "        # Doğrulama (Validation) seti metrikleri\n",
    "        'Val RMSE': np.sqrt(mean_squared_error(y_val, y_val_pred)),\n",
    "        'Val MAE': mean_absolute_error(y_val, y_val_pred),\n",
    "        'Val MSE': mean_squared_error(y_val, y_val_pred),\n",
    "        'Val R2': r2_score(y_val, y_val_pred),\n",
    "\n",
    "        # Eğitim (Train) seti metrikleri\n",
    "        'Train RMSE': np.sqrt(mean_squared_error(y_train, y_train_pred)),\n",
    "        'Train MAE': mean_absolute_error(y_train, y_train_pred),\n",
    "        'Train MSE': mean_squared_error(y_train, y_train_pred),\n",
    "        'Train R2': r2_score(y_train, y_train_pred)\n",
    "        })\n",
    "\n",
    "        fold_scores.append((fold_idx, cv_results[-1]['Val RMSE']))\n",
    "        fold_preds.append((fold_idx, y_val_pred, y_val.index))  # Tahminleri ve index'leri tut\n",
    "\n",
    "    # En iyi fold belirlenir\n",
    "    best_fold_index = min(fold_scores, key=lambda x: x[1])[0]\n",
    "\n",
    "    # En iyi fold'a ait eğitim ve test bölgesi alınır\n",
    "    for fold_id, preds, indices in fold_preds:\n",
    "        if fold_id == best_fold_index:\n",
    "            # İlgili fold'un index'leri\n",
    "            train_indices = [i for i in range(len(X)) if i not in indices]\n",
    "            X_fold_train, y_fold_train = X.iloc[train_indices], y.iloc[train_indices]\n",
    "\n",
    "            # En iyi fold eğitimi\n",
    "            best_model.fit(X_fold_train, y_fold_train)\n",
    "\n",
    "            # Tüm veriye (veya X_test'e) tahmin yapılır\n",
    "            full_preds = best_model.predict(X)\n",
    "\n",
    "            # Tahminler her satır için yazılır\n",
    "            merged_df[f\"predicted_{name}\"] = full_preds\n",
    "            if name=='XGB':\n",
    "              shap_analysis(best_model, X_fold_train, X_val, feature_names, True)\n",
    "\n",
    "            break"
   ]
  },
  {
   "cell_type": "markdown",
   "metadata": {
    "id": "m_4UmavGnwyg"
   },
   "source": [
    "# 8.Fold Result"
   ]
  },
  {
   "cell_type": "code",
   "execution_count": null,
   "metadata": {
    "id": "60ul0wLpbWe7"
   },
   "outputs": [],
   "source": [
    "# Fold sonuçlarını DataFrame'e çevir\n",
    "fold_results_df = pd.DataFrame(cv_results)\n",
    "fold_results_df.to_csv(f\"{path}fold_results.csv\", index=False)"
   ]
  },
  {
   "cell_type": "markdown",
   "metadata": {
    "id": "RIQjEBsRnzv4"
   },
   "source": [
    "# 9.Optimum hyper-parameters"
   ]
  },
  {
   "cell_type": "code",
   "execution_count": null,
   "metadata": {
    "id": "neFoGkEROkCr"
   },
   "outputs": [],
   "source": [
    "optimum_parameters=pd.DataFrame(model_best_params)\n",
    "optimum_parameters.to_csv(f\"{path}optimum_parameters.csv\", index=False)"
   ]
  },
  {
   "cell_type": "markdown",
   "metadata": {
    "id": "fGhtmWI1oFVH"
   },
   "source": [
    "# 10.Calculate mean and standard deviation"
   ]
  },
  {
   "cell_type": "code",
   "execution_count": null,
   "metadata": {
    "colab": {
     "base_uri": "https://localhost:8080/"
    },
    "executionInfo": {
     "elapsed": 34,
     "status": "ok",
     "timestamp": 1748116415886,
     "user": {
      "displayName": "İbrahim AYAZ",
      "userId": "08537203857608214131"
     },
     "user_tz": -180
    },
    "id": "c51NQApFBM5k",
    "outputId": "7d5b6312-5734-47f5-d43b-f2ffaf9e9c46"
   },
   "outputs": [],
   "source": [
    "# Ortalama ve standart sapmayı hesapla\n",
    "agg_df = fold_results_df.groupby(\"Model\").agg({\n",
    "    \"Train MSE\": ['mean', 'std'],\n",
    "    \"Train MAE\": ['mean', 'std'],\n",
    "    \"Train RMSE\": ['mean', 'std'],\n",
    "    \"Train R2\": ['mean', 'std'],\n",
    "    \"Val MSE\": ['mean', 'std'],\n",
    "    \"Val MAE\": ['mean', 'std'],\n",
    "    \"Val RMSE\": ['mean', 'std'],\n",
    "    \"Val R2\": ['mean', 'std']\n",
    "})\n",
    "\n",
    "# Kolonları düzleştir\n",
    "agg_df.columns = ['_'.join(col).strip() for col in agg_df.columns.values]\n",
    "agg_df.reset_index(inplace=True)\n",
    "best_model_name = agg_df.sort_values(\"Val RMSE_mean\").iloc[0][\"Model\"]\n",
    "print(f\"Best Model Name: {best_model_name}\")\n",
    "# mean ± std formatı\n",
    "summary_df = pd.DataFrame()\n",
    "summary_df['Model'] = agg_df['Model']\n",
    "\n",
    "metrics = ['MSE', 'MAE', 'RMSE', 'R2']\n",
    "sets = ['Train', 'Val']\n",
    "\n",
    "for s in sets:\n",
    "    for m in metrics:\n",
    "        mean_col = f\"{s} {m}_mean\"\n",
    "        std_col = f\"{s} {m}_std\"\n",
    "        summary_df[f\"{s} {m}\"] = agg_df.apply(lambda row: f\"{row[mean_col]:.4f} ± {row[std_col]:.4f}\", axis=1)\n",
    "summary_df\n",
    "summary_df.to_csv(f\"{path}summary_df.csv\", index=False)"
   ]
  },
  {
   "cell_type": "markdown",
   "metadata": {
    "id": "YlUgKhdSoOVf"
   },
   "source": [
    "# 11.Random selection of 50 samples for graphs"
   ]
  },
  {
   "cell_type": "code",
   "execution_count": null,
   "metadata": {
    "id": "YWQjCKnjFusr"
   },
   "outputs": [],
   "source": [
    "merged_df1 = merged_df.sample(n=50, random_state=SEED)\n",
    "merged_df1 = merged_df1.reset_index(drop=True)"
   ]
  },
  {
   "cell_type": "markdown",
   "metadata": {
    "id": "pZ-V6XSqpMEY"
   },
   "source": [
    "# 12.Comparison of predictive outcomes of ML models"
   ]
  },
  {
   "cell_type": "code",
   "execution_count": null,
   "metadata": {
    "colab": {
     "base_uri": "https://localhost:8080/",
     "height": 1000
    },
    "executionInfo": {
     "elapsed": 9804,
     "status": "ok",
     "timestamp": 1748116465581,
     "user": {
      "displayName": "İbrahim AYAZ",
      "userId": "08537203857608214131"
     },
     "user_tz": -180
    },
    "id": "2Rc4EVuyAi7l",
    "outputId": "14b46fd6-4a8e-42ba-ffd3-0c816c8c39e1"
   },
   "outputs": [],
   "source": [
    "# Grafik çizimi\n",
    "\n",
    "colors = [\n",
    "    '#FF1DCE',  # Koyu Mavi (KNN)\n",
    "    '#ff7f0e',  # Turuncu (SVR)\n",
    "    '#2ca02c',  # Yeşil (DT)\n",
    "    '#d62728',  # Kırmızı (RF)\n",
    "    '#9467bd'   # Mor (XGB)\n",
    "]\n",
    "\n",
    "# Grafik düzeni\n",
    "num_cols = 3\n",
    "num_rows = 2\n",
    "fig, axes = plt.subplots(num_rows, num_cols, figsize=(15, 10))\n",
    "axes = axes.flatten()\n",
    "\n",
    "for i, (model_name, color) in enumerate(zip(tuned_models.keys(), colors)):\n",
    "    ax = axes[i]\n",
    "\n",
    "    ax.plot(merged_df1[f\"predicted_{model_name}\"], label=f\"Predicted Values\", linestyle='--', color=color)\n",
    "    ax.plot(merged_df1[\"ActualValues\"], label=\"Actual Values\", color='blue', linestyle='-', linewidth=3, marker='o', alpha=0.5)\n",
    "\n",
    "    ax.set_xlabel('Test Samples')\n",
    "    ax.set_ylabel('Air Outlet Temperature (K)')\n",
    "    ax.set_title(f'{model_name}')\n",
    "    ax.legend()\n",
    "    ax.grid(axis='y', linestyle='--')\n",
    "\n",
    "# Tüm modellerin birlikte çizildiği grafik\n",
    "ax_all = axes[-1]\n",
    "for model_name, color in zip(tuned_models.keys(), colors):\n",
    "    ax_all.plot(merged_df1[f\"predicted_{model_name}\"], label=f\"{model_name}\", linestyle='--', color=color)\n",
    "ax_all.plot(merged_df1[\"ActualValues\"], label=\"Actual Values\", color='blue', linestyle='-', linewidth=3, marker='o', alpha=0.5)\n",
    "ax_all.set_xlabel('Test Samples')\n",
    "ax_all.set_ylabel('Air Outlet Temperature (K)')\n",
    "ax_all.set_title('All Models')\n",
    "ax_all.legend()\n",
    "ax_all.grid(axis='y', linestyle='--', alpha=0.7)\n",
    "\n",
    "# Boş kalan aksları gizle\n",
    "for j in range(len(tuned_models), len(axes) - 1):\n",
    "    fig.delaxes(axes[j])\n",
    "\n",
    "plt.tight_layout()\n",
    "plt.savefig(f\"{graphic_path}tahmingrafigi.png\", dpi=600)\n",
    "plt.show()"
   ]
  },
  {
   "cell_type": "markdown",
   "metadata": {
    "id": "anBtAGI1pYdg"
   },
   "source": [
    "# 13.Data distribution between actual and predicted values; the 45° line shows optimal prediction."
   ]
  },
  {
   "cell_type": "code",
   "execution_count": null,
   "metadata": {
    "colab": {
     "base_uri": "https://localhost:8080/",
     "height": 1000
    },
    "executionInfo": {
     "elapsed": 6697,
     "status": "ok",
     "timestamp": 1748116501983,
     "user": {
      "displayName": "İbrahim AYAZ",
      "userId": "08537203857608214131"
     },
     "user_tz": -180
    },
    "id": "w-U5Zo1VJ3jG",
    "outputId": "c4e9700b-2e82-4f30-8cb6-ee1a0a000580"
   },
   "outputs": [],
   "source": [
    "# Model sayısını alın\n",
    "total_models = len(tuned_models.keys())\n",
    "\n",
    "# Dinamik satır ve sütun sayısı\n",
    "n_cols = 3\n",
    "n_rows = math.ceil((total_models + 1) / n_cols)\n",
    "y_test=merged_df1[\"ActualValues\"]\n",
    "# Grafik figürü ve eksenlerini oluştur\n",
    "fig, axes = plt.subplots(n_rows, n_cols, figsize=(15, 5 * n_rows))\n",
    "axes = axes.ravel()\n",
    "\n",
    "\n",
    "# Her model için ayrı grafik çiz\n",
    "for i, (model_name, color) in enumerate(zip(tuned_models.keys(), colors)):\n",
    "    ax = axes[i]\n",
    "    ax.plot([y_test.min(), y_test.max()], [y_test.min(), y_test.max()], 'k--', color=\"gray\")\n",
    "    ax.scatter(y_test, merged_df1[f\"predicted_{model_name}\"], label=f\"Predicted Values\", color=color, alpha=0.6)\n",
    "\n",
    "    ax.set_xlabel(\"Actual Air Outlet Temperature (K)\")\n",
    "    ax.set_ylabel(\"Predicted Air Outlet Temperature (K)\")\n",
    "    ax.set_title(f\"{model_name}\")\n",
    "    ax.legend()\n",
    "    ax.grid(axis='y', linestyle='--', alpha=0.7)\n",
    "\n",
    "# Tüm modellerin birlikte olduğu grafik\n",
    "ax = axes[total_models]\n",
    "ax.plot([y_test.min(), y_test.max()], [y_test.min(), y_test.max()], 'k--', color=\"gray\", label=\"Ideal Line\")\n",
    "for model_name, color in zip(tuned_models.keys(), colors):\n",
    "    ax.scatter(y_test, merged_df1[f\"predicted_{model_name}\"], label=f\"{model_name}\", color=color, alpha=0.6)\n",
    "\n",
    "ax.set_xlabel(\"Actual Air Outlet Temperature (K)\")\n",
    "ax.set_ylabel(\"Predicted Air Outlet Temperature (K)\")\n",
    "ax.set_title(\"All Models\")\n",
    "ax.legend()\n",
    "ax.grid(axis='y', linestyle='--', alpha=0.7)\n",
    "\n",
    "# Boş hücreleri kaldır\n",
    "if total_models + 1 < len(axes):\n",
    "    for j in range(total_models + 1, len(axes)):\n",
    "        fig.delaxes(axes[j])\n",
    "\n",
    "# Son işlemler\n",
    "plt.tight_layout()\n",
    "plt.savefig(f\"{graphic_path}tahmingrafigi_scatter.png\", dpi=600)\n",
    "plt.show()"
   ]
  },
  {
   "cell_type": "markdown",
   "metadata": {
    "id": "rjzheDNQpmHf"
   },
   "source": [
    "# 14.CFD Validation Graph"
   ]
  },
  {
   "cell_type": "code",
   "execution_count": null,
   "metadata": {
    "colab": {
     "base_uri": "https://localhost:8080/",
     "height": 767
    },
    "executionInfo": {
     "elapsed": 4496,
     "status": "ok",
     "timestamp": 1748116691478,
     "user": {
      "displayName": "İbrahim AYAZ",
      "userId": "08537203857608214131"
     },
     "user_tz": -180
    },
    "id": "JjpNl9_O3Xm3",
    "outputId": "6f22d5db-1346-462b-ac69-e890b79c0298"
   },
   "outputs": [],
   "source": [
    "cfd_validation = pd.read_csv(f\"{path}validation_new.csv\")\n",
    "cfd_validation.index=cfd_validation[\"PL\"]\n",
    "cfd_validation.drop(columns=[\"PL\"], inplace=True)\n",
    "# Data\n",
    "pipe_lengths = [0, 5, 10, 20, 30, 40, 50, 60]\n",
    "\n",
    "# Figure oluştur\n",
    "fig = plt.figure(figsize=(12, 8))\n",
    "gs = gridspec.GridSpec(2, 4)\n",
    "\n",
    "# Etiket isimleri\n",
    "y1_label = \"CFD\"\n",
    "y2_label = \"Experimental Study [72]\"\n",
    "\n",
    "# --- Plot 1 ---\n",
    "ax1 = plt.subplot(gs[0, 0:2])\n",
    "ax1.set_title(\"Air Inlet Temperature 311 K\")\n",
    "line1 = ax1.plot(pipe_lengths, cfd_validation[\"CFD\"][0:8], color='red', linestyle='-', marker='o', label=y1_label)\n",
    "line2 = ax1.plot(pipe_lengths, cfd_validation[\"Experimental study\"][0:8], color='blue', linestyle='-', marker='o', label=y2_label)\n",
    "ax1.set_xlabel('Pipe Length (m)')\n",
    "ax1.set_ylabel('Air Temperature (K)')\n",
    "ax1.grid(axis='both', linestyle='--', alpha=0.7)\n",
    "ax1.legend(loc='upper right')\n",
    "\n",
    "# --- Plot 2 ---\n",
    "ax2 = plt.subplot(gs[0, 2:4])\n",
    "ax2.set_title(\"Air Inlet Temperature 315 K\")\n",
    "ax2.plot(pipe_lengths, cfd_validation[\"CFD\"][8:16], color='red', linestyle='-', marker='o', label=y1_label)\n",
    "ax2.plot(pipe_lengths, cfd_validation[\"Experimental study\"][8:16], color='blue', linestyle='-', marker='o', label=y2_label)\n",
    "ax2.set_xlabel('Pipe Length (m)')\n",
    "ax2.set_ylabel('Air Temperature (K)')\n",
    "ax2.grid(axis='both', linestyle='--', alpha=0.7)\n",
    "ax2.legend(loc='upper right')\n",
    "\n",
    "# --- Plot 3 ---\n",
    "ax3 = plt.subplot(gs[1, 1:3])\n",
    "ax3.set_title(\"Air Inlet Temperature 319 K\")\n",
    "ax3.plot(pipe_lengths, cfd_validation[\"CFD\"][16:24], color='red', linestyle='-', marker='o', label=y1_label)\n",
    "ax3.plot(pipe_lengths, cfd_validation[\"Experimental study\"][16:24], color='blue', linestyle='-', marker='o', label=y2_label)\n",
    "ax3.set_xlabel('Pipe Length (m)')\n",
    "ax3.set_ylabel('Air Temperature (K)')\n",
    "ax3.grid(axis='both', linestyle='--', alpha=0.7)\n",
    "ax3.legend(loc='upper right')\n",
    "\n",
    "# Ortak alanlara göre düzenleme\n",
    "plt.tight_layout(rect=[0, 0, 1, 0.95])  # Üst boşluk için yer ayır\n",
    "\n",
    "# Kaydet\n",
    "plt.savefig(f\"{graphic_path}validation.png\", bbox_inches='tight', dpi=600)\n",
    "\n",
    "# Göster\n",
    "plt.show()"
   ]
  },
  {
   "cell_type": "markdown",
   "metadata": {
    "id": "M0_jbrnWpuOv"
   },
   "source": [
    "# 15.CFD & De Pape & Ex. Study Comparison"
   ]
  },
  {
   "cell_type": "code",
   "execution_count": null,
   "metadata": {
    "colab": {
     "base_uri": "https://localhost:8080/",
     "height": 607
    },
    "executionInfo": {
     "elapsed": 10592,
     "status": "ok",
     "timestamp": 1748197459328,
     "user": {
      "displayName": "İbrahim AYAZ",
      "userId": "08537203857608214131"
     },
     "user_tz": -180
    },
    "id": "SRx7jrXf6S61",
    "outputId": "56f47888-b0ec-49b3-e393-8715865f3954"
   },
   "outputs": [],
   "source": [
    "cfd_comparison = pd.read_csv(f\"{path}comparison.csv\", sep=\";\")\n",
    "cfd_comparison.index=cfd_comparison[\"PL\"]\n",
    "cfd_comparison.drop(columns=[\"PL\"], inplace=True)\n",
    "plt.figure(figsize=(10, 6))\n",
    "plt.plot(cfd_comparison.index, cfd_comparison[\"CFD\"], color='red', linestyle='-', marker='o', label=\"CFD\")\n",
    "plt.plot(cfd_comparison.index, cfd_comparison[\"PJ\"], color='orange', linestyle='-', marker='o', label=\"De Paepe-Janssens Modified [73]\")\n",
    "plt.plot(cfd_comparison.index, cfd_comparison[\"ES\"], color='blue', linestyle='-', marker='o', label=\"Experimental Study [74]\")\n",
    "\n",
    "\n",
    "plt.xlabel('Pipe Length (m)')\n",
    "plt.ylabel('Air Temperature (K)')\n",
    "plt.grid(axis='both', linestyle='--', alpha=0.7)\n",
    "plt.legend(loc='upper right')\n",
    "plt.tight_layout()\n",
    "plt.savefig(f\"{graphic_path}comparison.png\", bbox_inches='tight', dpi=600)\n",
    "plt.show()"
   ]
  },
  {
   "cell_type": "markdown",
   "metadata": {
    "id": "fMMwf2v89PKi"
   },
   "source": [
    "# Read CSV"
   ]
  },
  {
   "cell_type": "code",
   "execution_count": null,
   "metadata": {
    "executionInfo": {
     "elapsed": 2411,
     "status": "ok",
     "timestamp": 1748191138951,
     "user": {
      "displayName": "İbrahim AYAZ",
      "userId": "08537203857608214131"
     },
     "user_tz": -180
    },
    "id": "ksmLN2Zr9NWq"
   },
   "outputs": [],
   "source": [
    "optimum_parameters = pd.read_csv(f\"{path}result_csv/optimum_parameters.csv\")"
   ]
  },
  {
   "cell_type": "code",
   "execution_count": null,
   "metadata": {
    "colab": {
     "base_uri": "https://localhost:8080/",
     "height": 35
    },
    "executionInfo": {
     "elapsed": 9,
     "status": "ok",
     "timestamp": 1748191218654,
     "user": {
      "displayName": "İbrahim AYAZ",
      "userId": "08537203857608214131"
     },
     "user_tz": -180
    },
    "id": "AAadW6oM9eZE",
    "outputId": "ccda1e9c-e1e4-404a-c136-d7f22e0943c9"
   },
   "outputs": [],
   "source": [
    "optimum_parameters[\"Best Params\"][0]"
   ]
  },
  {
   "cell_type": "code",
   "execution_count": null,
   "metadata": {
    "executionInfo": {
     "elapsed": 15,
     "status": "ok",
     "timestamp": 1748192298075,
     "user": {
      "displayName": "İbrahim AYAZ",
      "userId": "08537203857608214131"
     },
     "user_tz": -180
    },
    "id": "7fcX41se-Rcs"
   },
   "outputs": [],
   "source": [
    "performance_evaluation_result = pd.read_csv(f\"{path}result_csv/summary_df.csv\")"
   ]
  },
  {
   "cell_type": "code",
   "execution_count": null,
   "metadata": {
    "colab": {
     "base_uri": "https://localhost:8080/",
     "height": 206
    },
    "executionInfo": {
     "elapsed": 123,
     "status": "ok",
     "timestamp": 1748192298888,
     "user": {
      "displayName": "İbrahim AYAZ",
      "userId": "08537203857608214131"
     },
     "user_tz": -180
    },
    "id": "5lORIzP1USlK",
    "outputId": "cc6457ac-c59a-42c3-c719-2a0e87ece139"
   },
   "outputs": [],
   "source": [
    "performance_evaluation_result"
   ]
  },
  {
   "cell_type": "code",
   "execution_count": null,
   "metadata": {
    "executionInfo": {
     "elapsed": 69,
     "status": "ok",
     "timestamp": 1748192266442,
     "user": {
      "displayName": "İbrahim AYAZ",
      "userId": "08537203857608214131"
     },
     "user_tz": -180
    },
    "id": "oIfFRE5QXFp9"
   },
   "outputs": [],
   "source": [
    "columns_to_convert = [\n",
    "    \"Train MSE\", \"Train MAE\", \"Train RMSE\", \"Train R2\",\n",
    "    \"Val MSE\", \"Val MAE\", \"Val RMSE\", \"Val R2\"\n",
    "]\n",
    "def round_pm(value):\n",
    "    try:\n",
    "        mean, std = value.split('±')\n",
    "        mean = round(float(mean.strip()), 2)\n",
    "        std = round(float(std.strip()), 2)\n",
    "        return f\"{mean:.2f} ± {std:.2f}\"\n",
    "    except:\n",
    "        return value  # eğer sayı değilse orijinal değeri döndür\n",
    "\n",
    "# Tüm sütunlarda bu işlemi uygula\n",
    "for col in columns_to_convert:\n",
    "    performance_evaluation_result[col] = performance_evaluation_result[col].apply(round_pm)"
   ]
  },
  {
   "cell_type": "code",
   "execution_count": null,
   "metadata": {
    "colab": {
     "base_uri": "https://localhost:8080/",
     "height": 206
    },
    "executionInfo": {
     "elapsed": 128,
     "status": "ok",
     "timestamp": 1748192268175,
     "user": {
      "displayName": "İbrahim AYAZ",
      "userId": "08537203857608214131"
     },
     "user_tz": -180
    },
    "id": "g2hvsGLHXyBk",
    "outputId": "f776f230-8903-4116-9e41-c8f9869d3cab"
   },
   "outputs": [],
   "source": [
    "performance_evaluation_result"
   ]
  },
  {
   "cell_type": "code",
   "execution_count": null,
   "metadata": {
    "executionInfo": {
     "elapsed": 507,
     "status": "ok",
     "timestamp": 1748199338912,
     "user": {
      "displayName": "İbrahim AYAZ",
      "userId": "08537203857608214131"
     },
     "user_tz": -180
    },
    "id": "0J1VnH4kzI1A"
   },
   "outputs": [],
   "source": [
    "fold_result_csv = pd.read_csv(f\"{path}result_csv/fold_results.csv\")"
   ]
  },
  {
   "cell_type": "code",
   "execution_count": null,
   "metadata": {
    "colab": {
     "base_uri": "https://localhost:8080/",
     "height": 833
    },
    "executionInfo": {
     "elapsed": 102,
     "status": "ok",
     "timestamp": 1748199342286,
     "user": {
      "displayName": "İbrahim AYAZ",
      "userId": "08537203857608214131"
     },
     "user_tz": -180
    },
    "id": "iNOWBrIAzPoo",
    "outputId": "980f71c9-c035-4882-bfd4-429566c62795"
   },
   "outputs": [],
   "source": [
    "fold_result_csv"
   ]
  }
 ],
 "metadata": {
  "colab": {
   "authorship_tag": "ABX9TyPDDjyKP4OvxrSpUkkWuciD",
   "collapsed_sections": [
    "BgZcNirxl8Ea",
    "l3d9fhtNmK1h",
    "J8uqoUZkJNaE",
    "AUV7ufiBmpaZ",
    "hjgJU5j6MVH9",
    "tWzjtSQOorDQ",
    "SQUng6M_m6o3",
    "m_4UmavGnwyg",
    "RIQjEBsRnzv4",
    "fGhtmWI1oFVH",
    "YlUgKhdSoOVf",
    "pZ-V6XSqpMEY",
    "anBtAGI1pYdg",
    "rjzheDNQpmHf",
    "M0_jbrnWpuOv"
   ],
   "provenance": [],
   "toc_visible": true
  },
  "kernelspec": {
   "display_name": "Python 3 (ipykernel)",
   "language": "python",
   "name": "python3"
  },
  "language_info": {
   "codemirror_mode": {
    "name": "ipython",
    "version": 3
   },
   "file_extension": ".py",
   "mimetype": "text/x-python",
   "name": "python",
   "nbconvert_exporter": "python",
   "pygments_lexer": "ipython3",
   "version": "3.10.13"
  },
  "widgets": {
   "application/vnd.jupyter.widget-state+json": {
    "25ea646a030546e497c129d803d291fc": {
     "model_module": "@jupyter-widgets/controls",
     "model_module_version": "1.5.0",
     "model_name": "FloatProgressModel",
     "state": {
      "_dom_classes": [],
      "_model_module": "@jupyter-widgets/controls",
      "_model_module_version": "1.5.0",
      "_model_name": "FloatProgressModel",
      "_view_count": null,
      "_view_module": "@jupyter-widgets/controls",
      "_view_module_version": "1.5.0",
      "_view_name": "ProgressView",
      "bar_style": "success",
      "description": "",
      "description_tooltip": null,
      "layout": "IPY_MODEL_7fb876aa11794517a9d85436e2b2ae48",
      "max": 70,
      "min": 0,
      "orientation": "horizontal",
      "style": "IPY_MODEL_39adc3de13b342868c005ed6ef2e8acd",
      "value": 70
     }
    },
    "2d2b2c375c164e54bc04c98abd52df16": {
     "model_module": "@jupyter-widgets/controls",
     "model_module_version": "1.5.0",
     "model_name": "HTMLModel",
     "state": {
      "_dom_classes": [],
      "_model_module": "@jupyter-widgets/controls",
      "_model_module_version": "1.5.0",
      "_model_name": "HTMLModel",
      "_view_count": null,
      "_view_module": "@jupyter-widgets/controls",
      "_view_module_version": "1.5.0",
      "_view_name": "HTMLView",
      "description": "",
      "description_tooltip": null,
      "layout": "IPY_MODEL_a988bbee6dcd4fbfb65721793f7bd251",
      "placeholder": "​",
      "style": "IPY_MODEL_e41518399186405a9ec90091503f0dc7",
      "value": "100%"
     }
    },
    "385dd8ce7e764733b6aa30981eb4f9e6": {
     "model_module": "@jupyter-widgets/controls",
     "model_module_version": "1.5.0",
     "model_name": "DescriptionStyleModel",
     "state": {
      "_model_module": "@jupyter-widgets/controls",
      "_model_module_version": "1.5.0",
      "_model_name": "DescriptionStyleModel",
      "_view_count": null,
      "_view_module": "@jupyter-widgets/base",
      "_view_module_version": "1.2.0",
      "_view_name": "StyleView",
      "description_width": ""
     }
    },
    "39adc3de13b342868c005ed6ef2e8acd": {
     "model_module": "@jupyter-widgets/controls",
     "model_module_version": "1.5.0",
     "model_name": "ProgressStyleModel",
     "state": {
      "_model_module": "@jupyter-widgets/controls",
      "_model_module_version": "1.5.0",
      "_model_name": "ProgressStyleModel",
      "_view_count": null,
      "_view_module": "@jupyter-widgets/base",
      "_view_module_version": "1.2.0",
      "_view_name": "StyleView",
      "bar_color": null,
      "description_width": ""
     }
    },
    "5846a99602044de98c61a477807024a6": {
     "model_module": "@jupyter-widgets/controls",
     "model_module_version": "1.5.0",
     "model_name": "HBoxModel",
     "state": {
      "_dom_classes": [],
      "_model_module": "@jupyter-widgets/controls",
      "_model_module_version": "1.5.0",
      "_model_name": "HBoxModel",
      "_view_count": null,
      "_view_module": "@jupyter-widgets/controls",
      "_view_module_version": "1.5.0",
      "_view_name": "HBoxView",
      "box_style": "",
      "children": [
       "IPY_MODEL_2d2b2c375c164e54bc04c98abd52df16",
       "IPY_MODEL_25ea646a030546e497c129d803d291fc",
       "IPY_MODEL_daae02dafa574fecbe756c2de182ae31"
      ],
      "layout": "IPY_MODEL_700e60db4a1b4d688efe9da269c95021"
     }
    },
    "700e60db4a1b4d688efe9da269c95021": {
     "model_module": "@jupyter-widgets/base",
     "model_module_version": "1.2.0",
     "model_name": "LayoutModel",
     "state": {
      "_model_module": "@jupyter-widgets/base",
      "_model_module_version": "1.2.0",
      "_model_name": "LayoutModel",
      "_view_count": null,
      "_view_module": "@jupyter-widgets/base",
      "_view_module_version": "1.2.0",
      "_view_name": "LayoutView",
      "align_content": null,
      "align_items": null,
      "align_self": null,
      "border": null,
      "bottom": null,
      "display": null,
      "flex": null,
      "flex_flow": null,
      "grid_area": null,
      "grid_auto_columns": null,
      "grid_auto_flow": null,
      "grid_auto_rows": null,
      "grid_column": null,
      "grid_gap": null,
      "grid_row": null,
      "grid_template_areas": null,
      "grid_template_columns": null,
      "grid_template_rows": null,
      "height": null,
      "justify_content": null,
      "justify_items": null,
      "left": null,
      "margin": null,
      "max_height": null,
      "max_width": null,
      "min_height": null,
      "min_width": null,
      "object_fit": null,
      "object_position": null,
      "order": null,
      "overflow": null,
      "overflow_x": null,
      "overflow_y": null,
      "padding": null,
      "right": null,
      "top": null,
      "visibility": null,
      "width": null
     }
    },
    "7fb876aa11794517a9d85436e2b2ae48": {
     "model_module": "@jupyter-widgets/base",
     "model_module_version": "1.2.0",
     "model_name": "LayoutModel",
     "state": {
      "_model_module": "@jupyter-widgets/base",
      "_model_module_version": "1.2.0",
      "_model_name": "LayoutModel",
      "_view_count": null,
      "_view_module": "@jupyter-widgets/base",
      "_view_module_version": "1.2.0",
      "_view_name": "LayoutView",
      "align_content": null,
      "align_items": null,
      "align_self": null,
      "border": null,
      "bottom": null,
      "display": null,
      "flex": null,
      "flex_flow": null,
      "grid_area": null,
      "grid_auto_columns": null,
      "grid_auto_flow": null,
      "grid_auto_rows": null,
      "grid_column": null,
      "grid_gap": null,
      "grid_row": null,
      "grid_template_areas": null,
      "grid_template_columns": null,
      "grid_template_rows": null,
      "height": null,
      "justify_content": null,
      "justify_items": null,
      "left": null,
      "margin": null,
      "max_height": null,
      "max_width": null,
      "min_height": null,
      "min_width": null,
      "object_fit": null,
      "object_position": null,
      "order": null,
      "overflow": null,
      "overflow_x": null,
      "overflow_y": null,
      "padding": null,
      "right": null,
      "top": null,
      "visibility": null,
      "width": null
     }
    },
    "a988bbee6dcd4fbfb65721793f7bd251": {
     "model_module": "@jupyter-widgets/base",
     "model_module_version": "1.2.0",
     "model_name": "LayoutModel",
     "state": {
      "_model_module": "@jupyter-widgets/base",
      "_model_module_version": "1.2.0",
      "_model_name": "LayoutModel",
      "_view_count": null,
      "_view_module": "@jupyter-widgets/base",
      "_view_module_version": "1.2.0",
      "_view_name": "LayoutView",
      "align_content": null,
      "align_items": null,
      "align_self": null,
      "border": null,
      "bottom": null,
      "display": null,
      "flex": null,
      "flex_flow": null,
      "grid_area": null,
      "grid_auto_columns": null,
      "grid_auto_flow": null,
      "grid_auto_rows": null,
      "grid_column": null,
      "grid_gap": null,
      "grid_row": null,
      "grid_template_areas": null,
      "grid_template_columns": null,
      "grid_template_rows": null,
      "height": null,
      "justify_content": null,
      "justify_items": null,
      "left": null,
      "margin": null,
      "max_height": null,
      "max_width": null,
      "min_height": null,
      "min_width": null,
      "object_fit": null,
      "object_position": null,
      "order": null,
      "overflow": null,
      "overflow_x": null,
      "overflow_y": null,
      "padding": null,
      "right": null,
      "top": null,
      "visibility": null,
      "width": null
     }
    },
    "b4aea11c022d401cab951e6af0ade077": {
     "model_module": "@jupyter-widgets/base",
     "model_module_version": "1.2.0",
     "model_name": "LayoutModel",
     "state": {
      "_model_module": "@jupyter-widgets/base",
      "_model_module_version": "1.2.0",
      "_model_name": "LayoutModel",
      "_view_count": null,
      "_view_module": "@jupyter-widgets/base",
      "_view_module_version": "1.2.0",
      "_view_name": "LayoutView",
      "align_content": null,
      "align_items": null,
      "align_self": null,
      "border": null,
      "bottom": null,
      "display": null,
      "flex": null,
      "flex_flow": null,
      "grid_area": null,
      "grid_auto_columns": null,
      "grid_auto_flow": null,
      "grid_auto_rows": null,
      "grid_column": null,
      "grid_gap": null,
      "grid_row": null,
      "grid_template_areas": null,
      "grid_template_columns": null,
      "grid_template_rows": null,
      "height": null,
      "justify_content": null,
      "justify_items": null,
      "left": null,
      "margin": null,
      "max_height": null,
      "max_width": null,
      "min_height": null,
      "min_width": null,
      "object_fit": null,
      "object_position": null,
      "order": null,
      "overflow": null,
      "overflow_x": null,
      "overflow_y": null,
      "padding": null,
      "right": null,
      "top": null,
      "visibility": null,
      "width": null
     }
    },
    "daae02dafa574fecbe756c2de182ae31": {
     "model_module": "@jupyter-widgets/controls",
     "model_module_version": "1.5.0",
     "model_name": "HTMLModel",
     "state": {
      "_dom_classes": [],
      "_model_module": "@jupyter-widgets/controls",
      "_model_module_version": "1.5.0",
      "_model_name": "HTMLModel",
      "_view_count": null,
      "_view_module": "@jupyter-widgets/controls",
      "_view_module_version": "1.5.0",
      "_view_name": "HTMLView",
      "description": "",
      "description_tooltip": null,
      "layout": "IPY_MODEL_b4aea11c022d401cab951e6af0ade077",
      "placeholder": "​",
      "style": "IPY_MODEL_385dd8ce7e764733b6aa30981eb4f9e6",
      "value": " 70/70 [00:07&lt;00:00,  9.79it/s]"
     }
    },
    "e41518399186405a9ec90091503f0dc7": {
     "model_module": "@jupyter-widgets/controls",
     "model_module_version": "1.5.0",
     "model_name": "DescriptionStyleModel",
     "state": {
      "_model_module": "@jupyter-widgets/controls",
      "_model_module_version": "1.5.0",
      "_model_name": "DescriptionStyleModel",
      "_view_count": null,
      "_view_module": "@jupyter-widgets/base",
      "_view_module_version": "1.2.0",
      "_view_name": "StyleView",
      "description_width": ""
     }
    }
   }
  }
 },
 "nbformat": 4,
 "nbformat_minor": 4
}
